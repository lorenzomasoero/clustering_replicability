{
 "cells": [
  {
   "cell_type": "code",
   "execution_count": 2,
   "id": "d32ca008",
   "metadata": {},
   "outputs": [
    {
     "data": {
      "text/html": [
       "<style>.container { width:100% !important; }</style>"
      ],
      "text/plain": [
       "<IPython.core.display.HTML object>"
      ]
     },
     "metadata": {},
     "output_type": "display_data"
    }
   ],
   "source": [
    "from utils_real_data import *\n",
    "display(HTML(\"<style>.container { width:100% !important; }</style>\"))"
   ]
  },
  {
   "cell_type": "code",
   "execution_count": 5,
   "id": "81c71380",
   "metadata": {},
   "outputs": [],
   "source": [
    "# LOAD THE DATA\n",
    "\n",
    "mainz_dict, trans_dict, vdx_dict = np.load('r_data/mainz_dict.npy', allow_pickle=1).item(), np.load('r_data/transbig_dict.npy', allow_pickle=1).item(), np.load('r_data/vdx_dict.npy', allow_pickle=1).item()\n",
    "\n",
    "mainz_3, mainz_pam, mainz_all = np.asarray(mainz_dict['HK_3'].values[:, 1:].T, dtype = float) , np.asarray(mainz_dict['PAM50'].values[:,1:].T, dtype = float), np.asarray(mainz_dict['all'].values[:,1:].T, dtype = float)\n",
    "trans_3, trans_pam, trans_all = np.asarray(trans_dict['HK_3'].values[:, 1:].T, dtype = float) , np.asarray(trans_dict['PAM50'].values[:,1:].T, dtype = float), np.asarray(trans_dict['all'].values[:,1:].T, dtype = float)\n",
    "vdx_3, vdx_pam, vdx_all = np.asarray(vdx_dict['HK_3'].values[:, 1:].T, dtype = float) , np.asarray(vdx_dict['PAM50'].values[:,1:].T, dtype = float), np.asarray(vdx_dict['all'].values[:,1:].T, dtype = float)"
   ]
  },
  {
   "cell_type": "code",
   "execution_count": 7,
   "id": "d90947ab",
   "metadata": {},
   "outputs": [],
   "source": [
    "### PCA on PAM 50\n",
    "\n",
    "pca = PCA()\n",
    "dd_ = [mainz_pam, trans_pam, vdx_pam]\n",
    "pam_pca = pca.fit(np.concatenate([dd_[0], dd_[1], dd_[2]])) # create common matrix\n",
    "\n",
    "# plt.plot(range(1,len(pam_pca.explained_variance_ratio_)+1), pam_pca.explained_variance_ratio_.cumsum())\n",
    "# plt.hlines(y=.75, xmin = 1, xmax = pam_pca.n_features_)\n",
    "# plt.vlines(ymin = 0, ymax = 1, x = 15) # retain 15 components\n",
    "# plt.show()\n",
    "\n",
    "pam_pca  = PCA(n_components=15)\n",
    "pam_pca_ = pam_pca.fit_transform(np.concatenate([dd_[0], dd_[1], dd_[2]]))\n",
    "mainz_pam_pca, trans_pam_pca, vdx_pam_pca = pam_pca_[:len(mainz_pam)], pam_pca_[len(mainz_pam):len(mainz_pam)+len(trans_pam)], pam_pca_[len(mainz_pam)+len(trans_pam):]"
   ]
  },
  {
   "cell_type": "code",
   "execution_count": 8,
   "id": "c15c465c",
   "metadata": {},
   "outputs": [],
   "source": [
    "# PCA on 1% most variable genes\n",
    "\n",
    "threshold = int(trans_all.shape[1]/200)\n",
    "\n",
    "variation_mainz, variation_trans, variation_vdx = sp.stats.variation(mainz_all, axis = 0), sp.stats.variation(trans_all, axis = 0), sp.stats.variation(vdx_all, axis = 0) # compute per gene variation\n",
    "index_mainz, index_trans, index_vdx = set(np.argsort(variation_mainz)[::-1][:threshold]), set(np.argsort(variation_trans)[::-1][:threshold]), set(np.argsort(variation_vdx)[::-1][:threshold]) # compute top 1% genes in each dataset\n",
    "variable_genes_index = list(index_mainz.intersection(index_trans, index_vdx)) # compute genes whihc are in top 1% most variable genes in all 3 datasets\n",
    "mainz_top, trans_top, vdx_top = mainz_all[:, variable_genes_index], trans_all[:, variable_genes_index], vdx_all[:,variable_genes_index] # compute variable genes\n",
    "\n",
    "pca = PCA()\n",
    "dd_ = [mainz_top, trans_top, vdx_top]\n",
    "top_pca = pca.fit(np.concatenate([dd_[0], dd_[1], dd_[2]])) # create common matrix\n",
    "\n",
    "# plt.plot(range(1,len(top_pca.explained_variance_ratio_)+1), top_pca.explained_variance_ratio_.cumsum())\n",
    "# plt.hlines(y=.75, xmin = 1, xmax = top_pca.n_features_)\n",
    "# plt.vlines(ymin = 0, ymax = 1, x = 30) # retain 30 components\n",
    "# plt.show()\n",
    "\n",
    "top_pca  = PCA(n_components=30)\n",
    "top_pca_ = top_pca.fit_transform(np.concatenate([dd_[0], dd_[1], dd_[2]]))\n",
    "mainz_top_pca, trans_top_pca, vdx_top_pca = top_pca_[:len(mainz_top)], top_pca_[len(mainz_top):len(mainz_top)+len(trans_top)], top_pca_[len(mainz_top)+len(trans_top):]"
   ]
  },
  {
   "cell_type": "code",
   "execution_count": null,
   "id": "d37f3eef",
   "metadata": {},
   "outputs": [
    {
     "name": "stdout",
     "output_type": "stream",
     "text": [
      "Using  PAM_50_PCA\n",
      "\tEvaluating replicability with  Kmeans\n"
     ]
    },
    {
     "name": "stderr",
     "output_type": "stream",
     "text": [
      "<ipython-input-13-4a09e85aa900>:18: TqdmDeprecationWarning: This function will be removed in tqdm==5.0.0\n",
      "Please use `tqdm.notebook.tqdm` instead of `tqdm.tqdm_notebook`\n",
      "  for i, train_set in tqdm_notebook(enumerate(datasets)):\n"
     ]
    },
    {
     "data": {
      "application/vnd.jupyter.widget-view+json": {
       "model_id": "a2e1849bafaa4725a91ed7d2620adf4d",
       "version_major": 2,
       "version_minor": 0
      },
      "text/plain": [
       "0it [00:00, ?it/s]"
      ]
     },
     "metadata": {},
     "output_type": "display_data"
    },
    {
     "name": "stdout",
     "output_type": "stream",
     "text": [
      "\t\tTraining on  mainz\n",
      "\t\t\tTesting on  mainz ; for k in 2,..., 8\n"
     ]
    },
    {
     "data": {
      "application/vnd.jupyter.widget-view+json": {
       "model_id": "c16bd1f804ad4f02ac9aae21e8a8b0b9",
       "version_major": 2,
       "version_minor": 0
      },
      "text/plain": [
       "  0%|          | 0/50 [00:00<?, ?it/s]"
      ]
     },
     "metadata": {},
     "output_type": "display_data"
    },
    {
     "data": {
      "application/vnd.jupyter.widget-view+json": {
       "model_id": "fba410c79c1940fca70efccbc794ec68",
       "version_major": 2,
       "version_minor": 0
      },
      "text/plain": [
       "  0%|          | 0/50 [00:00<?, ?it/s]"
      ]
     },
     "metadata": {},
     "output_type": "display_data"
    },
    {
     "data": {
      "application/vnd.jupyter.widget-view+json": {
       "model_id": "0fa78f885e904fe5a94194aaee8c6acb",
       "version_major": 2,
       "version_minor": 0
      },
      "text/plain": [
       "  0%|          | 0/50 [00:00<?, ?it/s]"
      ]
     },
     "metadata": {},
     "output_type": "display_data"
    },
    {
     "data": {
      "application/vnd.jupyter.widget-view+json": {
       "model_id": "5c9076f3a0ee4c3bbf4ba0d8e07fd8e3",
       "version_major": 2,
       "version_minor": 0
      },
      "text/plain": [
       "  0%|          | 0/50 [00:00<?, ?it/s]"
      ]
     },
     "metadata": {},
     "output_type": "display_data"
    },
    {
     "data": {
      "application/vnd.jupyter.widget-view+json": {
       "model_id": "32942339945a4f3090fc9a8173f6a8fb",
       "version_major": 2,
       "version_minor": 0
      },
      "text/plain": [
       "  0%|          | 0/50 [00:00<?, ?it/s]"
      ]
     },
     "metadata": {},
     "output_type": "display_data"
    },
    {
     "data": {
      "application/vnd.jupyter.widget-view+json": {
       "model_id": "a95abcfbb4044877b0ff0ed52aba0bce",
       "version_major": 2,
       "version_minor": 0
      },
      "text/plain": [
       "  0%|          | 0/50 [00:00<?, ?it/s]"
      ]
     },
     "metadata": {},
     "output_type": "display_data"
    },
    {
     "data": {
      "application/vnd.jupyter.widget-view+json": {
       "model_id": "69dd3a13513441d3977312e87029afbc",
       "version_major": 2,
       "version_minor": 0
      },
      "text/plain": [
       "  0%|          | 0/50 [00:00<?, ?it/s]"
      ]
     },
     "metadata": {},
     "output_type": "display_data"
    },
    {
     "name": "stdout",
     "output_type": "stream",
     "text": [
      "\t\t\tTesting on  trans ; for k in 2,..., 8\n"
     ]
    },
    {
     "data": {
      "application/vnd.jupyter.widget-view+json": {
       "model_id": "99c14647e6c848649fd1fd0cad5fcad1",
       "version_major": 2,
       "version_minor": 0
      },
      "text/plain": [
       "  0%|          | 0/50 [00:00<?, ?it/s]"
      ]
     },
     "metadata": {},
     "output_type": "display_data"
    },
    {
     "data": {
      "application/vnd.jupyter.widget-view+json": {
       "model_id": "25780c7b3d274ed09e77846bda6d7b6c",
       "version_major": 2,
       "version_minor": 0
      },
      "text/plain": [
       "  0%|          | 0/50 [00:00<?, ?it/s]"
      ]
     },
     "metadata": {},
     "output_type": "display_data"
    },
    {
     "data": {
      "application/vnd.jupyter.widget-view+json": {
       "model_id": "5a79c7502ad64e48be767391afb9d01d",
       "version_major": 2,
       "version_minor": 0
      },
      "text/plain": [
       "  0%|          | 0/50 [00:00<?, ?it/s]"
      ]
     },
     "metadata": {},
     "output_type": "display_data"
    },
    {
     "data": {
      "application/vnd.jupyter.widget-view+json": {
       "model_id": "f14418fc599348e18deef63e20cf7469",
       "version_major": 2,
       "version_minor": 0
      },
      "text/plain": [
       "  0%|          | 0/50 [00:00<?, ?it/s]"
      ]
     },
     "metadata": {},
     "output_type": "display_data"
    },
    {
     "data": {
      "application/vnd.jupyter.widget-view+json": {
       "model_id": "393b726088024ffcb59ee59adec3864f",
       "version_major": 2,
       "version_minor": 0
      },
      "text/plain": [
       "  0%|          | 0/50 [00:00<?, ?it/s]"
      ]
     },
     "metadata": {},
     "output_type": "display_data"
    },
    {
     "data": {
      "application/vnd.jupyter.widget-view+json": {
       "model_id": "705ff82ea7a8499893537e713b5af11c",
       "version_major": 2,
       "version_minor": 0
      },
      "text/plain": [
       "  0%|          | 0/50 [00:00<?, ?it/s]"
      ]
     },
     "metadata": {},
     "output_type": "display_data"
    },
    {
     "data": {
      "application/vnd.jupyter.widget-view+json": {
       "model_id": "45927ba4a5964879862ffb62e5fa0035",
       "version_major": 2,
       "version_minor": 0
      },
      "text/plain": [
       "  0%|          | 0/50 [00:00<?, ?it/s]"
      ]
     },
     "metadata": {},
     "output_type": "display_data"
    },
    {
     "name": "stdout",
     "output_type": "stream",
     "text": [
      "\t\t\tTesting on  vdx ; for k in 2,..., 8\n"
     ]
    },
    {
     "data": {
      "application/vnd.jupyter.widget-view+json": {
       "model_id": "92f9342adc4c4dad870a838c713abfe4",
       "version_major": 2,
       "version_minor": 0
      },
      "text/plain": [
       "  0%|          | 0/50 [00:00<?, ?it/s]"
      ]
     },
     "metadata": {},
     "output_type": "display_data"
    },
    {
     "data": {
      "application/vnd.jupyter.widget-view+json": {
       "model_id": "ee1d726f67b64d6bb3f8e90e5adf38ab",
       "version_major": 2,
       "version_minor": 0
      },
      "text/plain": [
       "  0%|          | 0/50 [00:00<?, ?it/s]"
      ]
     },
     "metadata": {},
     "output_type": "display_data"
    },
    {
     "data": {
      "application/vnd.jupyter.widget-view+json": {
       "model_id": "4f874b17bd9c4673bcf11928e0c8d4b3",
       "version_major": 2,
       "version_minor": 0
      },
      "text/plain": [
       "  0%|          | 0/50 [00:00<?, ?it/s]"
      ]
     },
     "metadata": {},
     "output_type": "display_data"
    },
    {
     "data": {
      "application/vnd.jupyter.widget-view+json": {
       "model_id": "673c7034d1914277adb496872eb94543",
       "version_major": 2,
       "version_minor": 0
      },
      "text/plain": [
       "  0%|          | 0/50 [00:00<?, ?it/s]"
      ]
     },
     "metadata": {},
     "output_type": "display_data"
    },
    {
     "data": {
      "application/vnd.jupyter.widget-view+json": {
       "model_id": "4406d92458c2496ab9fd2595f49082e3",
       "version_major": 2,
       "version_minor": 0
      },
      "text/plain": [
       "  0%|          | 0/50 [00:00<?, ?it/s]"
      ]
     },
     "metadata": {},
     "output_type": "display_data"
    },
    {
     "data": {
      "application/vnd.jupyter.widget-view+json": {
       "model_id": "129e3e08c9b8481cb92de8d1080bb7e4",
       "version_major": 2,
       "version_minor": 0
      },
      "text/plain": [
       "  0%|          | 0/50 [00:00<?, ?it/s]"
      ]
     },
     "metadata": {},
     "output_type": "display_data"
    },
    {
     "data": {
      "application/vnd.jupyter.widget-view+json": {
       "model_id": "2f4e050390ce4e7ab4ed256b20c7d190",
       "version_major": 2,
       "version_minor": 0
      },
      "text/plain": [
       "  0%|          | 0/50 [00:00<?, ?it/s]"
      ]
     },
     "metadata": {},
     "output_type": "display_data"
    },
    {
     "name": "stdout",
     "output_type": "stream",
     "text": [
      "\t\tTraining on  trans\n",
      "\t\t\tTesting on  mainz ; for k in 2,..., 8\n"
     ]
    },
    {
     "data": {
      "application/vnd.jupyter.widget-view+json": {
       "model_id": "21f67d33cb5a46f5a3d12132c4ba0396",
       "version_major": 2,
       "version_minor": 0
      },
      "text/plain": [
       "  0%|          | 0/50 [00:00<?, ?it/s]"
      ]
     },
     "metadata": {},
     "output_type": "display_data"
    },
    {
     "data": {
      "application/vnd.jupyter.widget-view+json": {
       "model_id": "2cca15eb07d74ca3b1e9cc526ac5e7a5",
       "version_major": 2,
       "version_minor": 0
      },
      "text/plain": [
       "  0%|          | 0/50 [00:00<?, ?it/s]"
      ]
     },
     "metadata": {},
     "output_type": "display_data"
    },
    {
     "data": {
      "application/vnd.jupyter.widget-view+json": {
       "model_id": "65cb98a359134fea8938f166a8412419",
       "version_major": 2,
       "version_minor": 0
      },
      "text/plain": [
       "  0%|          | 0/50 [00:00<?, ?it/s]"
      ]
     },
     "metadata": {},
     "output_type": "display_data"
    },
    {
     "data": {
      "application/vnd.jupyter.widget-view+json": {
       "model_id": "1f2f6040a7f749afa58c476228f127d3",
       "version_major": 2,
       "version_minor": 0
      },
      "text/plain": [
       "  0%|          | 0/50 [00:00<?, ?it/s]"
      ]
     },
     "metadata": {},
     "output_type": "display_data"
    },
    {
     "data": {
      "application/vnd.jupyter.widget-view+json": {
       "model_id": "2d2d355739604a2981e1d67ecc607b92",
       "version_major": 2,
       "version_minor": 0
      },
      "text/plain": [
       "  0%|          | 0/50 [00:00<?, ?it/s]"
      ]
     },
     "metadata": {},
     "output_type": "display_data"
    },
    {
     "data": {
      "application/vnd.jupyter.widget-view+json": {
       "model_id": "5863a1b9116742fa9345fc88a5d9d85b",
       "version_major": 2,
       "version_minor": 0
      },
      "text/plain": [
       "  0%|          | 0/50 [00:00<?, ?it/s]"
      ]
     },
     "metadata": {},
     "output_type": "display_data"
    },
    {
     "data": {
      "application/vnd.jupyter.widget-view+json": {
       "model_id": "2873f65755bd488db928c0fa7f201625",
       "version_major": 2,
       "version_minor": 0
      },
      "text/plain": [
       "  0%|          | 0/50 [00:00<?, ?it/s]"
      ]
     },
     "metadata": {},
     "output_type": "display_data"
    },
    {
     "name": "stdout",
     "output_type": "stream",
     "text": [
      "\t\t\tTesting on  trans ; for k in 2,..., 8\n"
     ]
    },
    {
     "data": {
      "application/vnd.jupyter.widget-view+json": {
       "model_id": "63c708aeea9b4c52b398ba090650be8a",
       "version_major": 2,
       "version_minor": 0
      },
      "text/plain": [
       "  0%|          | 0/50 [00:00<?, ?it/s]"
      ]
     },
     "metadata": {},
     "output_type": "display_data"
    },
    {
     "data": {
      "application/vnd.jupyter.widget-view+json": {
       "model_id": "8c178614cfbd43d488e54915d2fb25e0",
       "version_major": 2,
       "version_minor": 0
      },
      "text/plain": [
       "  0%|          | 0/50 [00:00<?, ?it/s]"
      ]
     },
     "metadata": {},
     "output_type": "display_data"
    },
    {
     "data": {
      "application/vnd.jupyter.widget-view+json": {
       "model_id": "bd6a527e5fb54ef09079071d5633959c",
       "version_major": 2,
       "version_minor": 0
      },
      "text/plain": [
       "  0%|          | 0/50 [00:00<?, ?it/s]"
      ]
     },
     "metadata": {},
     "output_type": "display_data"
    },
    {
     "data": {
      "application/vnd.jupyter.widget-view+json": {
       "model_id": "938d534f48914f4cac3a3d5cea90260e",
       "version_major": 2,
       "version_minor": 0
      },
      "text/plain": [
       "  0%|          | 0/50 [00:00<?, ?it/s]"
      ]
     },
     "metadata": {},
     "output_type": "display_data"
    },
    {
     "data": {
      "application/vnd.jupyter.widget-view+json": {
       "model_id": "b239ccb4eeb948139f663d2ec44b7833",
       "version_major": 2,
       "version_minor": 0
      },
      "text/plain": [
       "  0%|          | 0/50 [00:00<?, ?it/s]"
      ]
     },
     "metadata": {},
     "output_type": "display_data"
    },
    {
     "data": {
      "application/vnd.jupyter.widget-view+json": {
       "model_id": "a05183a2d6e24eff93128c3a15626abc",
       "version_major": 2,
       "version_minor": 0
      },
      "text/plain": [
       "  0%|          | 0/50 [00:00<?, ?it/s]"
      ]
     },
     "metadata": {},
     "output_type": "display_data"
    },
    {
     "data": {
      "application/vnd.jupyter.widget-view+json": {
       "model_id": "77b4dfcc1f3c42e78a79d1d6bb18c01a",
       "version_major": 2,
       "version_minor": 0
      },
      "text/plain": [
       "  0%|          | 0/50 [00:00<?, ?it/s]"
      ]
     },
     "metadata": {},
     "output_type": "display_data"
    },
    {
     "name": "stdout",
     "output_type": "stream",
     "text": [
      "\t\t\tTesting on  vdx ; for k in 2,..., 8\n"
     ]
    },
    {
     "data": {
      "application/vnd.jupyter.widget-view+json": {
       "model_id": "3bdcd36b15d44fc98d75fa071428fe16",
       "version_major": 2,
       "version_minor": 0
      },
      "text/plain": [
       "  0%|          | 0/50 [00:00<?, ?it/s]"
      ]
     },
     "metadata": {},
     "output_type": "display_data"
    },
    {
     "data": {
      "application/vnd.jupyter.widget-view+json": {
       "model_id": "57798cdb9353463ab93d1d272aa9ebeb",
       "version_major": 2,
       "version_minor": 0
      },
      "text/plain": [
       "  0%|          | 0/50 [00:00<?, ?it/s]"
      ]
     },
     "metadata": {},
     "output_type": "display_data"
    },
    {
     "ename": "KeyboardInterrupt",
     "evalue": "",
     "output_type": "error",
     "traceback": [
      "\u001b[0;31m---------------------------------------------------------------------------\u001b[0m",
      "\u001b[0;31mKeyboardInterrupt\u001b[0m                         Traceback (most recent call last)",
      "\u001b[0;32m<__array_function__ internals>\u001b[0m in \u001b[0;36mwhere\u001b[0;34m(*args, **kwargs)\u001b[0m\n",
      "\u001b[0;31mKeyboardInterrupt\u001b[0m: "
     ]
    },
    {
     "name": "stderr",
     "output_type": "stream",
     "text": [
      "Exception ignored in: 'sklearn.cluster._k_means_fast._relocate_empty_clusters_dense'\n",
      "Traceback (most recent call last):\n",
      "  File \"<__array_function__ internals>\", line 2, in where\n",
      "KeyboardInterrupt: \n"
     ]
    },
    {
     "data": {
      "application/vnd.jupyter.widget-view+json": {
       "model_id": "2a3f99c1f9d04dbd8b613178075b7407",
       "version_major": 2,
       "version_minor": 0
      },
      "text/plain": [
       "  0%|          | 0/50 [00:00<?, ?it/s]"
      ]
     },
     "metadata": {},
     "output_type": "display_data"
    },
    {
     "data": {
      "application/vnd.jupyter.widget-view+json": {
       "model_id": "e6effc426e234c0ab858ba72fa4dea79",
       "version_major": 2,
       "version_minor": 0
      },
      "text/plain": [
       "  0%|          | 0/50 [00:00<?, ?it/s]"
      ]
     },
     "metadata": {},
     "output_type": "display_data"
    },
    {
     "data": {
      "application/vnd.jupyter.widget-view+json": {
       "model_id": "17a775fe1c944c598183d0aa23465b8f",
       "version_major": 2,
       "version_minor": 0
      },
      "text/plain": [
       "  0%|          | 0/50 [00:00<?, ?it/s]"
      ]
     },
     "metadata": {},
     "output_type": "display_data"
    },
    {
     "data": {
      "application/vnd.jupyter.widget-view+json": {
       "model_id": "6f691dca24c643e7b699d3e6e0d06ea2",
       "version_major": 2,
       "version_minor": 0
      },
      "text/plain": [
       "  0%|          | 0/50 [00:00<?, ?it/s]"
      ]
     },
     "metadata": {},
     "output_type": "display_data"
    },
    {
     "data": {
      "application/vnd.jupyter.widget-view+json": {
       "model_id": "b15728e9162a4e78aa2dd2add07442d9",
       "version_major": 2,
       "version_minor": 0
      },
      "text/plain": [
       "  0%|          | 0/50 [00:00<?, ?it/s]"
      ]
     },
     "metadata": {},
     "output_type": "display_data"
    },
    {
     "name": "stdout",
     "output_type": "stream",
     "text": [
      "\t\tTraining on  vdx\n",
      "\t\t\tTesting on  mainz ; for k in 2,..., 8\n"
     ]
    },
    {
     "data": {
      "application/vnd.jupyter.widget-view+json": {
       "model_id": "140d4f825f494a7eafe0ebdd88887acf",
       "version_major": 2,
       "version_minor": 0
      },
      "text/plain": [
       "  0%|          | 0/50 [00:00<?, ?it/s]"
      ]
     },
     "metadata": {},
     "output_type": "display_data"
    },
    {
     "data": {
      "application/vnd.jupyter.widget-view+json": {
       "model_id": "84e16c92a98b4ecfa9aac49b04e0452a",
       "version_major": 2,
       "version_minor": 0
      },
      "text/plain": [
       "  0%|          | 0/50 [00:00<?, ?it/s]"
      ]
     },
     "metadata": {},
     "output_type": "display_data"
    },
    {
     "data": {
      "application/vnd.jupyter.widget-view+json": {
       "model_id": "4a022872d3154b37846d3a87570ed74c",
       "version_major": 2,
       "version_minor": 0
      },
      "text/plain": [
       "  0%|          | 0/50 [00:00<?, ?it/s]"
      ]
     },
     "metadata": {},
     "output_type": "display_data"
    },
    {
     "data": {
      "application/vnd.jupyter.widget-view+json": {
       "model_id": "feec1f2dd6f14ec8972ef5c262c2d731",
       "version_major": 2,
       "version_minor": 0
      },
      "text/plain": [
       "  0%|          | 0/50 [00:00<?, ?it/s]"
      ]
     },
     "metadata": {},
     "output_type": "display_data"
    }
   ],
   "source": [
    "methods_list = ['Kmeans', 'Birch', 'AgglomerativeClustering']\n",
    "real_data = {}\n",
    "min_num_cl, max_num_cl, num_boots = 3, 8, 50\n",
    "\n",
    "datasets_dic = {}\n",
    "datasets_dic['PAM_50'], datasets_dic['HK_3'], datasets_dic['PAM_50_PCA'], datasets_dic['top'], datasets_dic['top_pca'] = [mainz_pam, trans_pam, vdx_pam], [mainz_3, trans_3, vdx_3], [mainz_pam_pca, trans_pam_pca, vdx_pam_pca], [mainz_top, trans_top, vdx_top], [mainz_top_pca, trans_top_pca, vdx_top_pca]\n",
    "\n",
    "which_ds = ['mainz', 'trans', 'vdx']\n",
    "\n",
    "for data_ in ['PAM_50_PCA', 'top', 'top_pca']:\n",
    "    datasets, real_data[data_] = datasets_dic[data_], {}\n",
    "    print('Using ', data_)\n",
    "    for method in methods_list:\n",
    "        print('\\tEvaluating replicability with ', method)\n",
    "        real_data[data_][method] = {}\n",
    "        real_data[data_][method]['ari'], real_data[data_][method]['ami'], real_data[data_][method]['true_labels'], real_data[data_][method]['predicted_labels'] = {}, {}, {}, {}\n",
    "        for i, train_set in tqdm_notebook(enumerate(datasets)):\n",
    "            print('\\t\\tTraining on ', which_ds[i])\n",
    "            for j, test_set in enumerate(datasets):\n",
    "                print('\\t\\t\\tTesting on ', which_ds[j],'; for k in 2,...,', max_num_cl)\n",
    "                test_set = datasets[j]\n",
    "                \n",
    "                ari, ami, true_labs, predicted_labels = run_exercise_1(train_set, test_set, method, num_boots, max_num_cl, AFFINITY, LINKAGE)\n",
    "                real_data[data_][method]['ari'][which_ds[i]+'_'+which_ds[j]], real_data[data_][method]['ami'][which_ds[i]+'_'+which_ds[j]] = ari, ami\n",
    "                real_data[data_][method]['true_labels'][which_ds[i]+'_'+which_ds[j]], real_data[data_][method]['predicted_labels'][which_ds[i]+'_'+which_ds[j]] = true_labs, predicted_labels\n",
    "#     np.save('results/scores_labels', real_data)"
   ]
  }
 ],
 "metadata": {
  "kernelspec": {
   "display_name": "Python 3",
   "language": "python",
   "name": "python3"
  },
  "language_info": {
   "codemirror_mode": {
    "name": "ipython",
    "version": 3
   },
   "file_extension": ".py",
   "mimetype": "text/x-python",
   "name": "python",
   "nbconvert_exporter": "python",
   "pygments_lexer": "ipython3",
   "version": "3.8.8"
  }
 },
 "nbformat": 4,
 "nbformat_minor": 5
}
